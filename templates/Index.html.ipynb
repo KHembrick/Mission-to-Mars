{
 "cells": [
  {
   "cell_type": "code",
   "execution_count": 1,
   "id": "37b7da6f",
   "metadata": {},
   "outputs": [
    {
     "ename": "SyntaxError",
     "evalue": "invalid syntax (Temp/ipykernel_10768/2998885402.py, line 1)",
     "output_type": "error",
     "traceback": [
      "\u001b[1;36m  File \u001b[1;32m\"C:\\Users\\KreeH\\AppData\\Local\\Temp/ipykernel_10768/2998885402.py\"\u001b[1;36m, line \u001b[1;32m1\u001b[0m\n\u001b[1;33m    <!DOCTYPE html>\u001b[0m\n\u001b[1;37m    ^\u001b[0m\n\u001b[1;31mSyntaxError\u001b[0m\u001b[1;31m:\u001b[0m invalid syntax\n"
     ]
    }
   ],
   "source": [
    "<!DOCTYPE html>\n",
    "<html lang=\"en\">\n",
    "  <head>\n",
    "    <meta charset=\"UTF-8\" />\n",
    "    <meta name=\"viewport\" content=\"width=device-width, initial-scale=1.0\" />\n",
    "    <meta http-equiv=\"X-UA-Compatible\" content=\"ie=edge\" />\n",
    "    <title>Mission to Mars</title>\n",
    "    <link\n",
    "      rel=\"stylesheet\"\n",
    "      href=\"https://maxcdn.bootstrapcdn.com/bootstrap/3.3.7/css/bootstrap.min.css\"\n",
    "    />\n",
    "  </head>\n",
    "  <body>\n",
    "    <div class=\"container\">\n",
    "      <!-- Add Jumbotron to Header -->\n",
    "      <div class=\"jumbotron text-center\">\n",
    "        <h1>Mission to Mars</h1>\n",
    "        <!-- Add a button to activate scraping script -->\n",
    "        <p><a class=\"btn btn-primary btn-lg\" href=\"/scrape\" role=\"button\">Scrape New Data</a></p>\n",
    "      </div>\n",
    "\n",
    "      <!-- Add section for Mars News -->\n",
    "      <div class=\"row\" id=\"mars-news\">\n",
    "        <div class=\"col-md-12\">\n",
    "          <div class=\"media\">\n",
    "            <div class=\"media-body\">\n",
    "              <h2>Latest Mars News</h2>\n",
    "              <h4 class=\"media-heading\">{{ mars.news_title }}</h4>\n",
    "              <p>{{ mars.news_paragraph }}</p>\n",
    "            </div>\n",
    "          </div>\n",
    "        </div>\n",
    "      </div>\n",
    "\n",
    "      <!-- Section for Featured Image and Facts table -->\n",
    "      <div class=\"row\" id=\"mars-featured-image\">\n",
    "        <div class=\"col-md-8\">\n",
    "          <h2>Featured Mars Image</h2>\n",
    "\n",
    "          <!-- if images is False/None/non-existent, then default to error message -->\n",
    "          <img\n",
    "            src=\"{{mars.featured_image | default('static/images/error.png', true) }}\"\n",
    "            class=\"img-responsive\"\n",
    "            alt=\"Responsive image\"\n",
    "          />\n",
    "        </div>\n",
    "\n",
    "        <div class=\"col-md-4\">\n",
    "          <!-- Mars Facts -->\n",
    "          <div class=\"row\" id=\"mars-facts\">\n",
    "            <h4>Mars Facts</h4>\n",
    "            {{ mars.facts | safe }}\n",
    "          </div>\n",
    "        </div>\n",
    "      </div>\n",
    "\n",
    "      <!-- Section for Mars Hemispheres -->\n",
    "      <div class=\"row\" id=\"mars-hemispheres\">\n",
    "        <div class=\"page-header\">\n",
    "          <h2 class=\"text-center\">Mars Hemispheres</h2>\n",
    "        </div>\n",
    "\n",
    "        {% for hemisphere in mars.hemispheres %}\n",
    "        <div class=\"col-md-6\">\n",
    "          <div class=\"thumbnail\">\n",
    "            <img src=\"{{hemisphere.img_url | default('static/images/error.png', true)}}\" alt=\"...\">\n",
    "            <div class=\"caption\">\n",
    "              <h3>{{hemisphere.title}}</h3>\n",
    "            </div>\n",
    "          </div>\n",
    "        </div>\n",
    "        {% endfor %}\n",
    "      </div>\n",
    "    </div>\n",
    "  </body>\n",
    "</html>"
   ]
  },
  {
   "cell_type": "code",
   "execution_count": null,
   "id": "14dcd0db",
   "metadata": {},
   "outputs": [],
   "source": []
  }
 ],
 "metadata": {
  "kernelspec": {
   "display_name": "Python 3 (ipykernel)",
   "language": "python",
   "name": "python3"
  },
  "language_info": {
   "codemirror_mode": {
    "name": "ipython",
    "version": 3
   },
   "file_extension": ".py",
   "mimetype": "text/x-python",
   "name": "python",
   "nbconvert_exporter": "python",
   "pygments_lexer": "ipython3",
   "version": "3.9.7"
  }
 },
 "nbformat": 4,
 "nbformat_minor": 5
}
